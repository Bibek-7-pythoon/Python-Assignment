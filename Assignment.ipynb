{
 "cells": [
  {
   "cell_type": "markdown",
   "metadata": {},
   "source": [
    "Section 1: Conditional Statement"
   ]
  },
  {
   "cell_type": "markdown",
   "metadata": {},
   "source": [
    "1. Write a program that asks the user to enter a number and checks whether the number is even or odd."
   ]
  },
  {
   "cell_type": "code",
   "execution_count": 2,
   "metadata": {},
   "outputs": [
    {
     "name": "stdout",
     "output_type": "stream",
     "text": [
      "The number 0 is even.\n"
     ]
    }
   ],
   "source": [
    "number=int(input(\"Enter a number: \"))\n",
    "if number%2==0:\n",
    "    print(f\"The number {number} is even.\")\n",
    "else:\n",
    "    print(f\"The number {number} is odd.\")"
   ]
  },
  {
   "cell_type": "markdown",
   "metadata": {},
   "source": [
    "2. Write a program that asks the user to enter a number and checks\n",
    "whether it is positive, negative, or zero.\n"
   ]
  },
  {
   "cell_type": "code",
   "execution_count": 1,
   "metadata": {},
   "outputs": [
    {
     "name": "stdout",
     "output_type": "stream",
     "text": [
      "The number -18.0 is negative\n"
     ]
    }
   ],
   "source": [
    "number=float(input(\"Enter a number to check(+,-,0): \"))\n",
    "if number <0:\n",
    "    print(f\"The number {number} is negative\")\n",
    "elif number>0:\n",
    "    print(f\"The number {number} is positive.\")\n",
    "else:\n",
    "    print(f\"The number {number} is zero.\")\n"
   ]
  },
  {
   "cell_type": "markdown",
   "metadata": {},
   "source": [
    "3) Write a program that asks the user to enter their age and checks\n",
    "if they are eligible to vote (18 years or older)."
   ]
  },
  {
   "cell_type": "code",
   "execution_count": 5,
   "metadata": {},
   "outputs": [
    {
     "name": "stdout",
     "output_type": "stream",
     "text": [
      "You are 17 years old\n",
      "You are not eligible to vote\n"
     ]
    }
   ],
   "source": [
    "age=int(input(\"Enter an age to vote: \"))\n",
    "if age>=18:\n",
    "    print(f\"You are {age} years old\\nYou are eligible to vote\")\n",
    "else:\n",
    "    print(f\"You are {age} years old\\nYou are not eligible to vote\")"
   ]
  },
  {
   "cell_type": "markdown",
   "metadata": {},
   "source": [
    "4. Write a program that takes the lengths of three sides of a\n",
    "triangle as input and determines if the triangle is:\n",
    "\n",
    "○ Equilateral (all sides are equal)\n",
    "○ Isosceles (two sides are equal)\n",
    "○ Scalene (all sides are different)"
   ]
  },
  {
   "cell_type": "code",
   "execution_count": 36,
   "metadata": {},
   "outputs": [
    {
     "name": "stdout",
     "output_type": "stream",
     "text": [
      "All sides are different (1.0, 2.0, 3.0)\n",
      "so, It is an Scalene Triangle\n"
     ]
    }
   ],
   "source": [
    "length_of_first_side=float(input(\"Enter a length of first side: \"))\n",
    "length_of_second_side=float(input(\"Enter a length of second side: \"))\n",
    "length_of_third_side=float(input(\"Enter a length of third side: \"))\n",
    "if length_of_first_side==length_of_second_side==length_of_third_side:\n",
    "    print(f\"All sides are equal {length_of_first_side, length_of_second_side, length_of_third_side}\\nso, It is an Equilateral Triangle\")\n",
    "elif length_of_first_side==length_of_second_side:\n",
    "    print(f\"Two sides are equal {length_of_first_side, length_of_second_side, length_of_third_side}\\nso, It is an Isosceles Triangle\")\n",
    "elif length_of_first_side==length_of_third_side:\n",
    "    print(f\"Two sides are equal {length_of_first_side, length_of_second_side, length_of_third_side}\\nso, It is an Isosceles Triangle\")\n",
    "elif length_of_second_side==length_of_third_side:\n",
    "    print(f\"Two sides are equal {length_of_first_side, length_of_second_side, length_of_third_side}\\nso, It is an Isosceles Triangle\")\n",
    "elif length_of_first_side!=length_of_second_side!=length_of_third_side:\n",
    "    print(f\"All sides are different {length_of_first_side, length_of_second_side, length_of_third_side}\\nso, It is an Scalene Triangle\")\n",
    "else:\n",
    "    print(\"Error Not Valid !\")"
   ]
  },
  {
   "cell_type": "markdown",
   "metadata": {},
   "source": [
    "5. Write a program that asks the user to enter a password and checks\n",
    "if it matches a predefined password (e.g., \"Python123\").\n"
   ]
  },
  {
   "cell_type": "code",
   "execution_count": 41,
   "metadata": {},
   "outputs": [
    {
     "name": "stdout",
     "output_type": "stream",
     "text": [
      "It matches with a predefined password.\n"
     ]
    }
   ],
   "source": [
    "Password=input(\"Enter a password: \")\n",
    "if Password==\"Python123\":\n",
    "    print(\"It matches with a predefined password.\")\n",
    "else:\n",
    "    print(\"It didnot matches with a predefined password.\")"
   ]
  },
  {
   "cell_type": "markdown",
   "metadata": {},
   "source": [
    "Section 2: For Loops\n"
   ]
  },
  {
   "cell_type": "markdown",
   "metadata": {},
   "source": [
    "6. Multiplication Table: Write a Python program to print the\n",
    "multiplication table of a given number using a for loop.\n",
    "Example:\n",
    "\n",
    "○ Input: 5\n",
    "○ Output: 5, 10, 15, ..., 50\n"
   ]
  },
  {
   "cell_type": "code",
   "execution_count": 43,
   "metadata": {},
   "outputs": [
    {
     "name": "stdout",
     "output_type": "stream",
     "text": [
      "5\n",
      "10\n",
      "15\n",
      "20\n",
      "25\n",
      "30\n",
      "35\n",
      "40\n",
      "45\n",
      "50\n"
     ]
    }
   ],
   "source": [
    "for i in range(5,51,5):\n",
    "    print(i)"
   ]
  },
  {
   "cell_type": "markdown",
   "metadata": {},
   "source": [
    "Another way of calculating multiplication table of 5"
   ]
  },
  {
   "cell_type": "code",
   "execution_count": 75,
   "metadata": {},
   "outputs": [
    {
     "name": "stdout",
     "output_type": "stream",
     "text": [
      "5\n",
      "10\n",
      "15\n",
      "20\n",
      "25\n",
      "30\n",
      "35\n",
      "40\n",
      "45\n",
      "50\n"
     ]
    }
   ],
   "source": [
    "number=5\n",
    "i=1\n",
    "for i in range(1,11):\n",
    "    number=5*i\n",
    "    print(number)\n",
    "i+=1"
   ]
  },
  {
   "cell_type": "markdown",
   "metadata": {},
   "source": [
    "To check multiplication table of any numbers"
   ]
  },
  {
   "cell_type": "code",
   "execution_count": 86,
   "metadata": {},
   "outputs": [
    {
     "name": "stdout",
     "output_type": "stream",
     "text": [
      "100\n",
      "200\n",
      "300\n",
      "400\n",
      "500\n",
      "600\n",
      "700\n",
      "800\n",
      "900\n",
      "1000\n"
     ]
    }
   ],
   "source": [
    "# number=int(input(\"Enter a number to check multiplication table: \"))\n",
    "i=1\n",
    "num=int(input(\"Enter a num: \"))\n",
    "for i in range(1,11):\n",
    "    number=num*i\n",
    "    print(number)\n",
    "i+=1"
   ]
  },
  {
   "cell_type": "markdown",
   "metadata": {},
   "source": [
    "7. Count Vowels: Write a program to count and display the number of\n",
    "vowels in a given string."
   ]
  },
  {
   "cell_type": "code",
   "execution_count": 32,
   "metadata": {},
   "outputs": [
    {
     "name": "stdout",
     "output_type": "stream",
     "text": [
      "4\n",
      "The word Bibek Ale has 4 vowels\n"
     ]
    }
   ],
   "source": [
    "word=input(\"Enter a word to check no.of vowels: \")\n",
    "count=0\n",
    "vowels=\"aeiouAEIOU\"\n",
    "for char in word:\n",
    "    if char in vowels:\n",
    "        count+=1\n",
    "print(count)\n",
    "print(f\"The word {word} has {count} vowels\")"
   ]
  },
  {
   "cell_type": "code",
   "execution_count": 27,
   "metadata": {},
   "outputs": [
    {
     "name": "stdout",
     "output_type": "stream",
     "text": [
      "The number of vowels in the word 'bibek' is: 2\n"
     ]
    }
   ],
   "source": [
    "# Ask the user to enter a word\n",
    "user_input = input(\"Please enter a word: \")\n",
    "\n",
    "# Define vowels (both lowercase and uppercase)\n",
    "vowels = \"aeiouAEIOU\"\n",
    "\n",
    "# Initialize counter for vowels\n",
    "count = 0\n",
    "\n",
    "# Loop through each character in the word\n",
    "for char in user_input:\n",
    "    # Check if the character is a vowel\n",
    "    if char in vowels:\n",
    "        count += 1\n",
    "\n",
    "# Display the result\n",
    "print(f\"The number of vowels in the word '{user_input}' is: {count}\")\n"
   ]
  },
  {
   "cell_type": "markdown",
   "metadata": {},
   "source": [
    "8. Sum of Even Numbers Create a program to find the sum of all even\n",
    "numbers in a list using a for loop.\n",
    "\n",
    "Example:\n",
    "○ Input: [2, 5, 8, 3]\n",
    "○ Output: 10"
   ]
  },
  {
   "cell_type": "code",
   "execution_count": 16,
   "metadata": {},
   "outputs": [
    {
     "name": "stdout",
     "output_type": "stream",
     "text": [
      "550\n"
     ]
    }
   ],
   "source": [
    "list=[10,20,30,40,50,60,70,80,90,100]\n",
    "sum=0\n",
    "for num in list:\n",
    "    if num%2==0:\n",
    "        sum+=num\n",
    "print(sum)"
   ]
  },
  {
   "cell_type": "code",
   "execution_count": 15,
   "metadata": {},
   "outputs": [
    {
     "name": "stdout",
     "output_type": "stream",
     "text": [
      "2550\n",
      "The sum of all even numbers (2-100) is 2550\n"
     ]
    }
   ],
   "source": [
    "sum=0\n",
    "for i in range(2,101,2):\n",
    "    sum+=i\n",
    "i+=1\n",
    "print(sum)\n",
    "print(f\"The sum of all even numbers (2-100) is {sum}\")\n",
    "\n",
    "\n"
   ]
  },
  {
   "cell_type": "code",
   "execution_count": 11,
   "metadata": {},
   "outputs": [
    {
     "name": "stdout",
     "output_type": "stream",
     "text": [
      "Sum of even numbers: 30\n"
     ]
    }
   ],
   "source": [
    "# Example list of numbers\n",
    "numbers = [1, 2, 3, 4, 5, 6, 7, 8, 9, 10]\n",
    "\n",
    "# Initialize sum variable to 0\n",
    "sum_even = 0\n",
    "\n",
    "# Iterate through each number in the list\n",
    "for num in numbers:\n",
    "    # Check if the number is even\n",
    "    if num % 2 == 0:\n",
    "        sum_even += num  # Add even number to sum\n",
    "\n",
    "# Print the sum of even numbers\n",
    "print(\"Sum of even numbers:\", sum_even)\n"
   ]
  },
  {
   "cell_type": "code",
   "execution_count": 14,
   "metadata": {},
   "outputs": [
    {
     "name": "stdout",
     "output_type": "stream",
     "text": [
      "Sum of Even numbers: 30\n"
     ]
    }
   ],
   "source": [
    "list=[1,2,3,4,5,6,7,8,9,10]\n",
    "sum=0\n",
    "for num in list:\n",
    "    if num%2==0:\n",
    "        sum+=num\n",
    "print(\"Sum of Even numbers:\", sum)"
   ]
  },
  {
   "cell_type": "markdown",
   "metadata": {},
   "source": [
    "9. Create a program to find the largest and smallest numbers in a\n",
    "list using a for loop.\n",
    "\n",
    "Example:\n",
    "○ Input = [10, 20, 5, 8], Output = Largest = 20, Smallest = 5"
   ]
  },
  {
   "cell_type": "code",
   "execution_count": null,
   "metadata": {},
   "outputs": [],
   "source": [
    "# Input list\n",
    "numbers = [10, 20, 5, 8]\n",
    "\n",
    "# Initialize the largest and smallest values\n",
    "largest = numbers[0]\n",
    "smallest = numbers[0]\n",
    "\n",
    "#Iterate through the list using a for loop\n",
    "for num in numbers:\n",
    "    if num > largest:\n",
    "        largest = num\n",
    "    if num < smallest:\n",
    "        smallest = num\n",
    "\n",
    "# Output the results\n",
    "print(\"Largest =\", largest)\n",
    "print(\"Smallest =\", smallest)\n"
   ]
  },
  {
   "cell_type": "markdown",
   "metadata": {},
   "source": [
    "10. Write a program to calculate the sum of digits of a given\n",
    "number using a for loop.\n",
    "Example: Input = 1234, Output = 10"
   ]
  },
  {
   "cell_type": "code",
   "execution_count": 5,
   "metadata": {},
   "outputs": [
    {
     "name": "stdout",
     "output_type": "stream",
     "text": [
      "Sum of digits= 10\n"
     ]
    }
   ],
   "source": [
    "number=1234\n",
    "sum=0\n",
    "for variable in str(number):\n",
    "    sum+=int(variable)\n",
    "print(\"Sum of digits=\",sum)\n"
   ]
  },
  {
   "cell_type": "markdown",
   "metadata": {},
   "source": [
    "Explanation:\n",
    "1) The number is converted to a string so that we can loop through each digit individually.\n",
    "2) For each character (digit) in the string, we convert it back to an integer and add it to the sum_digits variable.\n",
    "3) Finally, the program prints the sum of the digits.\n"
   ]
  },
  {
   "cell_type": "markdown",
   "metadata": {},
   "source": [
    "# Input number\n",
    "number = 1234\n",
    "\n",
    "# Initialize sum to 0\n",
    "sum = 0\n",
    "\n",
    "# Convert the number to a string to loop through each digit\n",
    "for digit in str(number):\n",
    "    sum += int(digit)\n",
    "\n",
    "# Output the result\n",
    "print(\"Sum of digits =\", sum)\n"
   ]
  },
  {
   "cell_type": "markdown",
   "metadata": {},
   "source": [
    "11. Write a program to reverse a given string using a for loop.\n",
    "Example: Input = \"Python\", Output = \"nohtyP\""
   ]
  },
  {
   "cell_type": "code",
   "execution_count": 13,
   "metadata": {},
   "outputs": [
    {
     "name": "stdout",
     "output_type": "stream",
     "text": [
      "Reversed string = nohtyP\n"
     ]
    }
   ],
   "source": [
    "program=\"Python\"\n",
    "reversed_program=\"\"\n",
    "for char in program:\n",
    "    reversed_program=char + reversed_program\n",
    "print(\"Reversed string =\", reversed_program)\n"
   ]
  },
  {
   "cell_type": "code",
   "execution_count": 15,
   "metadata": {},
   "outputs": [
    {
     "name": "stdout",
     "output_type": "stream",
     "text": [
      "ela kebiB\n"
     ]
    }
   ],
   "source": [
    "string=input(\"Enter a word to reverse: \")\n",
    "reversed_str=\"\"\n",
    "for char in string:\n",
    "    reversed_str=char + reversed_str\n",
    "print(reversed_str)"
   ]
  },
  {
   "cell_type": "code",
   "execution_count": null,
   "metadata": {},
   "outputs": [],
   "source": [
    "# Input string\n",
    "string = \"Python\"\n",
    "\n",
    "# Initialize an empty string to store the reversed string\n",
    "reversed_string = \"\"\n",
    "\n",
    "# Loop through the input string in reverse order\n",
    "for char in string:\n",
    "    reversed_string = char + reversed_string  # Add each character to the front\n",
    "\n",
    "# Output the result\n",
    "print(\"Reversed string =\", reversed_string)\n"
   ]
  },
  {
   "cell_type": "markdown",
   "metadata": {},
   "source": [
    "Section 3: Functions"
   ]
  },
  {
   "cell_type": "markdown",
   "metadata": {},
   "source": [
    "1. Factorial Function: Write a function factorial(n) that returns\n",
    "the factorial of a number using a for loop."
   ]
  },
  {
   "cell_type": "code",
   "execution_count": 17,
   "metadata": {},
   "outputs": [
    {
     "name": "stdout",
     "output_type": "stream",
     "text": [
      "The factorial of 7 is 5040\n"
     ]
    }
   ],
   "source": [
    "# Function to calculate factorial of a number using a for loop\n",
    "def factorial(n):\n",
    "    # Initialize the result as 1 (since factorial of 0 is 1)\n",
    "    result = 1\n",
    "    \n",
    "    # Loop through numbers from 1 to n (inclusive)\n",
    "    for i in range(1, n + 1):\n",
    "        result *= i  # Multiply result by the current number\n",
    "        \n",
    "    return result\n",
    "\n",
    "# Example usage\n",
    "number = 7\n",
    "print(f\"The factorial of {number} is {factorial(number)}\")\n",
    "\n",
    "\n",
    "\n"
   ]
  },
  {
   "cell_type": "code",
   "execution_count": 28,
   "metadata": {},
   "outputs": [
    {
     "name": "stdout",
     "output_type": "stream",
     "text": [
      "The factorial of 6 is 720\n"
     ]
    }
   ],
   "source": [
    "def factorial(n):\n",
    "    result=1\n",
    "    for i in range(1, n + 1):\n",
    "        result*=i\n",
    "\n",
    "    return result\n",
    "number=6\n",
    "print(f\"The factorial of {number} is {factorial(number)}\")"
   ]
  },
  {
   "cell_type": "markdown",
   "metadata": {},
   "source": [
    "2. Prime Check Function: Create a function is_prime(n) to check\n",
    "whether a number is prime.\n",
    "Example:\n",
    "○ Input: 7\n",
    "○ Output: True"
   ]
  },
  {
   "cell_type": "code",
   "execution_count": 41,
   "metadata": {},
   "outputs": [
    {
     "name": "stdout",
     "output_type": "stream",
     "text": [
      "True\n",
      "False\n"
     ]
    }
   ],
   "source": [
    "def is_prime(n):\n",
    "    if n <= 1:  # Numbers less than or equal to 1 are not prime\n",
    "        return False\n",
    "    for i in range(2, int(n**0.5) + 1):  # Check divisibility up to sqrt(n)\n",
    "        if n % i == 0:  # If n is divisible by any number between 2 and sqrt(n), it's not prime\n",
    "            return False\n",
    "    return True  # If no divisors are found, n is prime\n",
    "print(is_prime(19))  # Output: True\n",
    "print(is_prime(6))  # Output: False\n",
    "\n"
   ]
  },
  {
   "cell_type": "markdown",
   "metadata": {},
   "source": [
    "3. Find Maximum in List:Write a function find_max(lst) to find and\n",
    "return the maximum value in a list.\n",
    "Example:\n",
    "○ Input: [1, 3, 7, 0]\n",
    "○ Output: 7"
   ]
  },
  {
   "cell_type": "code",
   "execution_count": 54,
   "metadata": {},
   "outputs": [
    {
     "name": "stdout",
     "output_type": "stream",
     "text": [
      "7\n",
      "15\n",
      "None\n"
     ]
    }
   ],
   "source": [
    "def find_max(lst):\n",
    "    if not lst:  # Check if the list is empty\n",
    "        return None  # Return None if the list is empty\n",
    "    max_value = lst[0]  # Assume the first element is the maximum initially\n",
    "    for num in lst:  # Iterate through the list\n",
    "        if num > max_value:  # Update max_value if a larger number is found\n",
    "            max_value = num\n",
    "    return max_value  # Return the maximum value\n",
    "print(find_max([1, 3, 7, 0]))  # Output: 7\n",
    "print(find_max([10, 4, 15, 9]))  # Output: 15\n",
    "print(find_max([]))  # Output: None (empty list case)\n"
   ]
  },
  {
   "cell_type": "code",
   "execution_count": 55,
   "metadata": {},
   "outputs": [
    {
     "name": "stdout",
     "output_type": "stream",
     "text": [
      "30\n"
     ]
    }
   ],
   "source": [
    "def find_max(lst):\n",
    "    if not lst:\n",
    "        return None\n",
    "    maximum_value=lst[0]\n",
    "    for variables in lst:\n",
    "        if num > maximum_value:\n",
    "            maximum_value = variables\n",
    "    return maximum_value\n",
    "print(find_max([1,0,22,30]))"
   ]
  },
  {
   "cell_type": "markdown",
   "metadata": {},
   "source": [
    "4. Write a function palindrome_check(string) that returns True if\n",
    "the given string is a palindrome, otherwise False.\n",
    "Example: Input = \"radar\", Output = True"
   ]
  },
  {
   "cell_type": "code",
   "execution_count": 3,
   "metadata": {},
   "outputs": [
    {
     "data": {
      "text/plain": [
       "True"
      ]
     },
     "execution_count": 3,
     "metadata": {},
     "output_type": "execute_result"
    }
   ],
   "source": [
    "def palindrome_check(string):\n",
    "    check_string=string.replace(\" \", \"\").lower()\n",
    "    return check_string==check_string[::-1]\n",
    "palindrome_check(\"A man a plan a canal Panama\")"
   ]
  },
  {
   "cell_type": "code",
   "execution_count": 1,
   "metadata": {},
   "outputs": [
    {
     "name": "stdout",
     "output_type": "stream",
     "text": [
      "True\n",
      "False\n"
     ]
    }
   ],
   "source": [
    "def palindrome_check(string):\n",
    "    # Remove spaces and convert to lowercase for a case-insensitive check\n",
    "    clean_string = string.replace(\" \", \"\").lower()\n",
    "    # Check if the string equals its reverse\n",
    "    return clean_string == clean_string[::-1]\n",
    "\n",
    "# Example usage:\n",
    "print(palindrome_check(\"radar\"))  # Output: True\n",
    "print(palindrome_check(\"hello\"))  # Output: False\n"
   ]
  },
  {
   "cell_type": "markdown",
   "metadata": {},
   "source": [
    "5. Write a function sum_of_squares(n) that returns the sum of\n",
    "squares of the first n natural numbers."
   ]
  },
  {
   "cell_type": "code",
   "execution_count": 4,
   "metadata": {},
   "outputs": [
    {
     "name": "stdout",
     "output_type": "stream",
     "text": [
      "14\n"
     ]
    }
   ],
   "source": [
    "def sum_of_squares(n):\n",
    "    total = 0\n",
    "    for i in range(1, n + 1):\n",
    "        total += i ** 2  # Add square of each number\n",
    "    return total\n",
    "\n",
    "# Example usage:\n",
    "print(sum_of_squares(3))  # Output: 14 (1^2 + 2^2 + 3^2)\n",
    "\n"
   ]
  },
  {
   "cell_type": "code",
   "execution_count": 6,
   "metadata": {},
   "outputs": [
    {
     "data": {
      "text/plain": [
       "5"
      ]
     },
     "execution_count": 6,
     "metadata": {},
     "output_type": "execute_result"
    }
   ],
   "source": [
    "def sum_of_squares(n):\n",
    "    total=0\n",
    "    for i in range(1,n+1):\n",
    "        total+=i**2\n",
    "    return total\n",
    "sum_of_squares(2)"
   ]
  },
  {
   "cell_type": "markdown",
   "metadata": {},
   "source": [
    "6. Write a function sum_of_squares(n) that returns the sum of\n",
    "squares of the first n natural numbers.\n",
    "Example: \n",
    "Input = 3, Output = 1^2 + 2^2 + 3^2 = 14"
   ]
  },
  {
   "cell_type": "code",
   "execution_count": 17,
   "metadata": {},
   "outputs": [
    {
     "name": "stdout",
     "output_type": "stream",
     "text": [
      "The sum of squares of number is 14\n"
     ]
    }
   ],
   "source": [
    "def sum_of_squares(n):\n",
    "    total=0\n",
    "    for i in range(1,n+1):\n",
    "        total+=i**2\n",
    "    return total\n",
    "print(f\"The sum of squares of number is {sum_of_squares(3)}\")"
   ]
  },
  {
   "cell_type": "code",
   "execution_count": 28,
   "metadata": {},
   "outputs": [
    {
     "data": {
      "text/plain": [
       "5"
      ]
     },
     "execution_count": 28,
     "metadata": {},
     "output_type": "execute_result"
    }
   ],
   "source": [
    "def sum_of_squares(n):\n",
    "    count=0\n",
    "    for i in range(1,n+1):\n",
    "        count+=i**2\n",
    "    return count\n",
    "c1=sum_of_squares(2)\n",
    "c1"
   ]
  },
  {
   "cell_type": "markdown",
   "metadata": {},
   "source": [
    "Section 4: Classes\n",
    "1. Rectangle Class:Define a class Rectangle with:\n",
    "○ Two attributes: length and width.\n",
    "○ A method area() to calculate the area.\n",
    "○ A method perimeter() to calculate the perimeter."
   ]
  },
  {
   "cell_type": "code",
   "execution_count": 29,
   "metadata": {},
   "outputs": [
    {
     "name": "stdout",
     "output_type": "stream",
     "text": [
      "The area of a rectangle is 20\n",
      "The perimeter of a rectangle is 40\n"
     ]
    }
   ],
   "source": [
    "class Rectangle:\n",
    "    def __init__(self,length,width):\n",
    "        self.length=length\n",
    "        self.width=width\n",
    "    def area(self):\n",
    "        area=self.length * self.width\n",
    "        return area\n",
    "    def perimeter(self):\n",
    "        perimeter=2*(self.length*self.width)\n",
    "        return perimeter\n",
    "c1=Rectangle(5,4)\n",
    "print(f\"The area of a rectangle is {c1.area()}\")\n",
    "print(f\"The perimeter of a rectangle is {c1.perimeter()}\")"
   ]
  },
  {
   "cell_type": "markdown",
   "metadata": {},
   "source": [
    "2. Student Class: Create a class Student with:\n",
    "○ Attributes: name, roll_number, and marks.\n",
    "○ A method display_details() to print the student's details.\n",
    "○ A method is_passed() that returns True if marks ≥ 40, else\n",
    "False."
   ]
  },
  {
   "cell_type": "code",
   "execution_count": 30,
   "metadata": {},
   "outputs": [
    {
     "name": "stdout",
     "output_type": "stream",
     "text": [
      "The name of a student is Bibek Ale\n",
      "The roll number of a student is 7\n",
      "The marks obtained by a student is 95\n",
      "True\n"
     ]
    }
   ],
   "source": [
    "class Student:\n",
    "    def __init__(self,name,roll_number,marks):\n",
    "        self.name=name\n",
    "        self.roll_number=roll_number\n",
    "        self.marks=marks\n",
    "    def display_details(self):\n",
    "        print(f\"The name of a student is {self.name}\")\n",
    "        print(f\"The roll number of a student is {self.roll_number}\")\n",
    "        print(f\"The marks obtained by a student is {self.marks}\")\n",
    "    def is_passed(self):\n",
    "        if self.marks>=40:\n",
    "            return True\n",
    "        else:\n",
    "            return False\n",
    "c1=Student(\"Bibek Ale\", 7, 95)\n",
    "c1.display_details()\n",
    "print(c1.is_passed())"
   ]
  },
  {
   "cell_type": "markdown",
   "metadata": {},
   "source": [
    "3. Define a class Circle with:\n",
    "● Attribute: radius.\n",
    "● Methods: area() to calculate the area, circumference() to\n",
    "calculate the circumference."
   ]
  },
  {
   "cell_type": "code",
   "execution_count": 32,
   "metadata": {},
   "outputs": [
    {
     "name": "stdout",
     "output_type": "stream",
     "text": [
      "The area of a circle = 50.27\n",
      "The circumference of a circle = 25.13\n"
     ]
    }
   ],
   "source": [
    "import math\n",
    "class Circle:\n",
    "    def __init__(self,radius):\n",
    "        self.radius=radius\n",
    "    def area(self):\n",
    "        area=math.pi * self.radius* self.radius\n",
    "        return area\n",
    "    def circumference(self):\n",
    "        circumference=2* math.pi* self.radius\n",
    "        return circumference\n",
    "c1=Circle(4)\n",
    "print(f\"The area of a circle = {c1.area():.2f}\")\n",
    "print(f\"The circumference of a circle = {c1.circumference():.2f}\")"
   ]
  },
  {
   "cell_type": "markdown",
   "metadata": {},
   "source": [
    "4. Create a class BankAccount with:\n",
    "● Attributes: account_number, account_holder, balance.\n",
    "● Methods:\n",
    "○ deposit(amount) to add money to the account.\n",
    "○ withdraw(amount) to subtract money (if sufficient\n",
    "balance is available).\n",
    "○ display_balance() to print the current balance."
   ]
  },
  {
   "cell_type": "code",
   "execution_count": 41,
   "metadata": {},
   "outputs": [
    {
     "name": "stdout",
     "output_type": "stream",
     "text": [
      "Deposited amount: $100.\n",
      " Current Balance: $100\n",
      "Withdrew: $50. Current Balance: $50\n",
      "Account Balance: $50\n",
      "Withdrew: $20. Current Balance: $30\n"
     ]
    }
   ],
   "source": [
    "class BankAccount:\n",
    "    def __init__(self, account_number, account_holder, balance=0):\n",
    "        self.account_number=account_number\n",
    "        self.account_holder=account_holder\n",
    "        self.balance=balance\n",
    "    def deposit(self,amount):\n",
    "        if amount>0:\n",
    "            self.balance += amount\n",
    "            print(f\"Deposited amount: ${amount}.\\n Current Balance: ${self.balance}\")\n",
    "        else:\n",
    "            print(\"Deposit amount must be positive.\")\n",
    "    \n",
    "    def withdraw(self, amount):\n",
    "        if amount > 0:  # Ensure the withdrawal amount is positive\n",
    "            if amount <= self.balance:  # Check if sufficient balance is available\n",
    "                self.balance -= amount\n",
    "                print(f\"Withdrew: ${amount}. Current Balance: ${self.balance}\")\n",
    "            else:\n",
    "                print(\"Insufficient funds.\")\n",
    "        else:\n",
    "            print(\"Withdrawal amount must be positive.\")\n",
    "    \n",
    "    # Method to display the current balance\n",
    "    def display_balance(self):\n",
    "        print(f\"Account Balance: ${self.balance}\")\n",
    "\n",
    "        \n",
    "BA=BankAccount(\"12345\",\"Bibek Ale\")\n",
    "BA.deposit(100)\n",
    "BA.withdraw(50)\n",
    "BA.display_balance()\n",
    "BA.withdraw(20)"
   ]
  },
  {
   "cell_type": "code",
   "execution_count": 33,
   "metadata": {},
   "outputs": [
    {
     "name": "stdout",
     "output_type": "stream",
     "text": [
      "Deposited: $500. Current Balance: $500\n",
      "Withdrew: $200. Current Balance: $300\n",
      "Account Balance: $300\n",
      "Insufficient funds.\n"
     ]
    }
   ],
   "source": [
    "class BankAccount:\n",
    "    # Constructor to initialize the attributes\n",
    "    def __init__(self, account_number, account_holder, balance=0):\n",
    "        self.account_number = account_number\n",
    "        self.account_holder = account_holder\n",
    "        self.balance = balance\n",
    "    \n",
    "    # Method to deposit money into the account\n",
    "    def deposit(self, amount):\n",
    "        if amount > 0:  # Ensure the amount is positive\n",
    "            self.balance += amount\n",
    "            print(f\"Deposited: ${amount}. Current Balance: ${self.balance}\")\n",
    "        else:\n",
    "            print(\"Deposit amount must be positive.\")\n",
    "    \n",
    "    # Method to withdraw money from the account\n",
    "    def withdraw(self, amount):\n",
    "        if amount > 0:  # Ensure the withdrawal amount is positive\n",
    "            if amount <= self.balance:  # Check if sufficient balance is available\n",
    "                self.balance -= amount\n",
    "                print(f\"Withdrew: ${amount}. Current Balance: ${self.balance}\")\n",
    "            else:\n",
    "                print(\"Insufficient funds.\")\n",
    "        else:\n",
    "            print(\"Withdrawal amount must be positive.\")\n",
    "    \n",
    "    # Method to display the current balance\n",
    "    def display_balance(self):\n",
    "        print(f\"Account Balance: ${self.balance}\")\n",
    "\n",
    "# Example usage:\n",
    "# Create a bank account with account number '12345' and account holder 'Bibek Ale'\n",
    "account = BankAccount(\"12345\", \"Bibek Ale\")\n",
    "\n",
    "# Deposit money into the account\n",
    "account.deposit(500)\n",
    "\n",
    "# Withdraw money from the account\n",
    "account.withdraw(200)\n",
    "\n",
    "# Display current balance\n",
    "account.display_balance()  # Output: Account Balance: $300\n",
    "\n",
    "# Trying to withdraw more than the balance\n",
    "account.withdraw(400)  # Output: Insufficient funds.\n"
   ]
  },
  {
   "cell_type": "markdown",
   "metadata": {},
   "source": [
    "5. A class Book with:\n",
    "● Attributes: title, author, price.\n",
    "● Methods:\n",
    "○ apply_discount(discount) to reduce the price by a\n",
    "given percentage.\n",
    "○ display_details() to print the book details."
   ]
  },
  {
   "cell_type": "code",
   "execution_count": 44,
   "metadata": {},
   "outputs": [
    {
     "name": "stdout",
     "output_type": "stream",
     "text": [
      "Title: Romeo and Juliet\n",
      "Author: William Shakespeare\n",
      "Price: $20.00\n",
      "Discount applied: 10%. New Price: $18.00\n",
      "Title: Romeo and Juliet\n",
      "Author: William Shakespeare\n",
      "Price: $18.00\n"
     ]
    }
   ],
   "source": [
    "class Book:\n",
    "    def __init__(self, title, author, price):\n",
    "        self.title = title\n",
    "        self.author = author\n",
    "        self.price = price\n",
    "    \n",
    "    def apply_discount(self, discount):\n",
    "        if 0 < discount < 100:  \n",
    "            discount_amount = (self.price * discount) / 100\n",
    "            self.price -= discount_amount\n",
    "            print(f\"Discount applied: {discount}%. New Price: ${self.price:.2f}\")\n",
    "        else:\n",
    "            print(\"Invalid discount. Discount should be between 0 and 100.\")\n",
    "    \n",
    "    def display_details(self):\n",
    "        print(f\"Title: {self.title}\")\n",
    "        print(f\"Author: {self.author}\")\n",
    "        print(f\"Price: ${self.price:.2f}\")\n",
    "\n",
    "\n",
    "book = Book(\"Romeo and Juliet\", \"William Shakespeare\", 20.00)\n",
    "book.display_details()\n",
    "book.apply_discount(10)\n",
    "book.display_details()\n",
    "\n",
    "        "
   ]
  },
  {
   "cell_type": "code",
   "execution_count": 42,
   "metadata": {},
   "outputs": [
    {
     "name": "stdout",
     "output_type": "stream",
     "text": [
      "Title: The Great Gatsby\n",
      "Author: F. Scott Fitzgerald\n",
      "Price: $20.00\n",
      "Discount applied: 10%. New Price: $18.00\n",
      "Title: The Great Gatsby\n",
      "Author: F. Scott Fitzgerald\n",
      "Price: $18.00\n"
     ]
    }
   ],
   "source": [
    "class Book:\n",
    "    # Constructor to initialize the attributes\n",
    "    def __init__(self, title, author, price):\n",
    "        self.title = title\n",
    "        self.author = author\n",
    "        self.price = price\n",
    "    \n",
    "    # Method to apply a discount to the book price\n",
    "    def apply_discount(self, discount):\n",
    "        if 0 < discount < 100:  # Ensure discount is between 0 and 100\n",
    "            discount_amount = (self.price * discount) / 100\n",
    "            self.price -= discount_amount\n",
    "            print(f\"Discount applied: {discount}%. New Price: ${self.price:.2f}\")\n",
    "        else:\n",
    "            print(\"Invalid discount. Discount should be between 0 and 100.\")\n",
    "    \n",
    "    # Method to display book details\n",
    "    def display_details(self):\n",
    "        print(f\"Title: {self.title}\")\n",
    "        print(f\"Author: {self.author}\")\n",
    "        print(f\"Price: ${self.price:.2f}\")\n",
    "\n",
    "# Example usage:\n",
    "# Create a book object with title, author, and price\n",
    "book = Book(\"The Great Gatsby\", \"F. Scott Fitzgerald\", 20.00)\n",
    "\n",
    "# Display book details\n",
    "book.display_details()\n",
    "\n",
    "# Apply a discount of 10%\n",
    "book.apply_discount(10)\n",
    "\n",
    "# Display updated book details\n",
    "book.display_details()\n"
   ]
  },
  {
   "cell_type": "markdown",
   "metadata": {},
   "source": [
    "6. Create a class Calculator with:\n",
    "○ A method add(a, b) to add two numbers.\n",
    "○ A method subtract(a, b) to subtract two numbers.\n",
    "○ A method multiply(a, b) to multiply two numbers.\n",
    "○ A method divide(a, b) to divide two numbers (handle division\n",
    "by zero gracefully)."
   ]
  },
  {
   "cell_type": "code",
   "execution_count": 70,
   "metadata": {},
   "outputs": [
    {
     "name": "stdout",
     "output_type": "stream",
     "text": [
      "The sum of a+b= 3\n",
      "The subtraction of a-b =3\n",
      "The multiplication of a*b =10\n",
      "The division of a/b =2.5\n"
     ]
    }
   ],
   "source": [
    "class Calculator:\n",
    "    def add(self,a,b):\n",
    "        sum=a+b\n",
    "        return sum\n",
    "    def subtract(self,a,b):\n",
    "        subtract=a-b\n",
    "        return subtract\n",
    "    def multiply(self,a,b):\n",
    "        multiply=a*b\n",
    "        return multiply\n",
    "    def divide(self,a,b):\n",
    "        if a==0:\n",
    "            print(\"Not valid\")\n",
    "        divide=a/b\n",
    "        return divide\n",
    "o1=Calculator()\n",
    "print(f\"The sum of a+b= {o1.add(1,2)}\")\n",
    "print(f\"The subtraction of a-b ={o1.subtract(5,2)}\")\n",
    "print(f\"The multiplication of a*b ={o1.multiply(5,2)}\")\n",
    "print(f\"The division of a/b ={o1.divide(5,2)}\")\n",
    "    "
   ]
  },
  {
   "cell_type": "code",
   "execution_count": 83,
   "metadata": {},
   "outputs": [
    {
     "name": "stdout",
     "output_type": "stream",
     "text": [
      "Addition: 3\n",
      "Subtraction: 2\n",
      "Multiplication: 12\n",
      "Division: 4.0\n"
     ]
    }
   ],
   "source": [
    "class Calculator:\n",
    "    def add(self,a=1,b=2):\n",
    "        add=a+b\n",
    "        return add\n",
    "    def subtract(self,a=4,b=2):\n",
    "        subtract=a-b\n",
    "        return subtract\n",
    "    def multiply(self,a=6,b=2):\n",
    "        multiply=a*b\n",
    "        return multiply\n",
    "    def divide(self,a=8,b=2):\n",
    "        if b==0:\n",
    "            print(\"Error: Division by zero is not allowed.\")\n",
    "        divide=a/b\n",
    "        return divide\n",
    "    \n",
    "cal=Calculator()\n",
    "print(\"Addition:\",cal.add())\n",
    "print(\"Subtraction:\",cal.subtract())\n",
    "print(\"Multiplication:\",cal.multiply())\n",
    "print(\"Division:\",cal.divide())"
   ]
  },
  {
   "cell_type": "markdown",
   "metadata": {},
   "source": [
    "7. Write a class Person with:\n",
    "○ Attributes: name, age, gender.\n",
    "○ Method introduce() to print a message like: \"Hello, my name\n",
    "is [name], I am [age] years old, and I am a [gender].\"\n",
    "○ Create a subclass Employee that adds:\n",
    "■ Attribute: job_title.\n",
    "■ Override introduce() to include the job title."
   ]
  },
  {
   "cell_type": "code",
   "execution_count": 93,
   "metadata": {},
   "outputs": [
    {
     "name": "stdout",
     "output_type": "stream",
     "text": [
      "Hello my name is Bibek Ale.\n",
      "I am 19 years old.\n",
      "I am a Male.\n",
      "Hello, my name is Puja Manandhar, I am 19 years old, I am a Female, and I work as a Teacher.\n",
      "The title of the job is Teacher.\n"
     ]
    }
   ],
   "source": [
    "class Person:\n",
    "    def __init__(self,name,age,gender):\n",
    "        self.name=name\n",
    "        self.age=age\n",
    "        self.gender=gender\n",
    "    def introduce(self):\n",
    "        print(f\"Hello my name is {self.name}.\")\n",
    "        print(f\"I am {self.age} years old.\")\n",
    "        print(f\"I am a {self.gender}.\")\n",
    "class Employee:\n",
    "    def __init__(self,name,age,gender,job_title):\n",
    "        self.job_title=job_title\n",
    "        self.name=name\n",
    "        self.age=age\n",
    "        self.gender=gender\n",
    "    def introduce(self):\n",
    "        print(f\"Hello, my name is {self.name}, I am {self.age} years old, I am a {self.gender}, and I work as a {self.job_title}.\")\n",
    "        print(f\"The title of the job is {self.job_title}.\")\n",
    "P1=Person(\"Bibek Ale\", 19, \"Male\")\n",
    "P1.introduce()\n",
    "E1=Employee(\"Puja Manandhar\",19, \"Female\",\"Teacher\")\n",
    "E1.introduce()"
   ]
  },
  {
   "cell_type": "markdown",
   "metadata": {},
   "source": [
    "Section 4: File Handling\n",
    "1. File Creation and Writing: Write a Python script to:\n",
    "○ Create a file named data.txt.\n",
    "○ Write the numbers from 1 to 10 (each on a new line) to the\n",
    "file.\n",
    "○ Read the file and print its contents."
   ]
  },
  {
   "cell_type": "code",
   "execution_count": 1,
   "metadata": {},
   "outputs": [],
   "source": [
    "with open(\"data.txt\", \"w\") as file:\n",
    "    file.write(\"1\\n2\\n3\\n4\\n5\\n6\\n7\\n8\\n9\\n10\")"
   ]
  },
  {
   "cell_type": "code",
   "execution_count": 2,
   "metadata": {},
   "outputs": [
    {
     "name": "stdout",
     "output_type": "stream",
     "text": [
      "1\n",
      "2\n",
      "3\n",
      "4\n",
      "5\n",
      "6\n",
      "7\n",
      "8\n",
      "9\n",
      "10\n"
     ]
    }
   ],
   "source": [
    "with open(\"data.txt\", \"r\") as file:\n",
    "    content=file.read()\n",
    "    print(content)"
   ]
  },
  {
   "cell_type": "markdown",
   "metadata": {},
   "source": [
    "2. Word Count in File: Write a program that reads a file named\n",
    "sample.txt, counts the number of words in it, and prints the\n",
    "result."
   ]
  },
  {
   "cell_type": "code",
   "execution_count": 3,
   "metadata": {},
   "outputs": [
    {
     "name": "stdout",
     "output_type": "stream",
     "text": [
      "The number of words in sample.txt is: 10\n"
     ]
    }
   ],
   "source": [
    "# Attempt to open and read the file\n",
    "try:\n",
    "    file = open('sample.txt', 'r')  # Open file in read mode\n",
    "    content = file.read()  # Read the entire content of the file\n",
    "    \n",
    "    # Split the content into words and count them\n",
    "    words = content.split()  # Split the content by whitespace into words\n",
    "    word_count = len(words)  # Get the number of words\n",
    "    \n",
    "    # Print the result\n",
    "    print(f\"The number of words in sample.txt is: {word_count}\")\n",
    "    \n",
    "    file.close()  # Close the file\n",
    "\n",
    "except FileNotFoundError:\n",
    "    print(\"The file 'sample.txt' was not found.\")\n",
    "except IOError:\n",
    "    print(\"An error occurred while reading the file.\")\n"
   ]
  },
  {
   "cell_type": "markdown",
   "metadata": {},
   "source": [
    "Section 5: Error Handling\n",
    "1. Division with Error Handling: Write a program that takes two\n",
    "numbers as input and divides the first number by the second.\n",
    "○ Use try and except to handle the division by zero error."
   ]
  },
  {
   "cell_type": "code",
   "execution_count": 8,
   "metadata": {},
   "outputs": [
    {
     "name": "stdout",
     "output_type": "stream",
     "text": [
      "0.0\n"
     ]
    }
   ],
   "source": [
    "try:\n",
    "    first_num=int(input(\"Enter a first_number: \"))\n",
    "    second_num=int(input(\"Enter a second_number: \"))\n",
    "    print(first_num/second_num)\n",
    "except Exception as e:\n",
    "    print(f\"Runtime Error: {e}\")\n",
    "    "
   ]
  },
  {
   "cell_type": "code",
   "execution_count": 10,
   "metadata": {},
   "outputs": [
    {
     "name": "stdout",
     "output_type": "stream",
     "text": [
      "The result of dividing 0.0 by 1.0 is: 0.0\n"
     ]
    }
   ],
   "source": [
    "# Taking input from the user\n",
    "try:\n",
    "    num1 = float(input(\"Enter the first number: \"))\n",
    "    num2 = float(input(\"Enter the second number: \"))\n",
    "    \n",
    "    # Perform division\n",
    "    result = num1 / num2\n",
    "\n",
    "except ZeroDivisionError:\n",
    "    # Handle division by zero error\n",
    "    print(\"Error: Cannot divide by zero.\")\n",
    "\n",
    "except ValueError:\n",
    "    # Handle invalid input (non-numeric input)\n",
    "    print(\"Error: Please enter valid numbers.\")\n",
    "\n",
    "else:\n",
    "    # If no error, print the result\n",
    "    print(f\"The result of dividing {num1} by {num2} is: {result}\")\n"
   ]
  },
  {
   "cell_type": "markdown",
   "metadata": {},
   "source": [
    "2. Integer Input Validation: Create a program that asks the user to\n",
    "input an integer.\n",
    "○ Use try, except, and else to handle invalid input.\n",
    "Example:\n",
    "○ Input: abc\n",
    "○ Output: \"Invalid input, please enter an integer.\""
   ]
  },
  {
   "cell_type": "code",
   "execution_count": 15,
   "metadata": {},
   "outputs": [
    {
     "name": "stdout",
     "output_type": "stream",
     "text": [
      "You entered the integer: 25\n"
     ]
    }
   ],
   "source": [
    "try:\n",
    "    user=int(input(\"Enter a number: \"))\n",
    "except Exception as e:\n",
    "    print(\"Invalid input, please enter an integer\")\n",
    "else:\n",
    "    print(f\"You entered the integer: {user}\")"
   ]
  },
  {
   "cell_type": "markdown",
   "metadata": {},
   "source": [
    "3. File Not Found Error Handling: Write a script that:\n",
    "○ Opens a file named unknown.txt.\n",
    "○ Handles the FileNotFoundError gracefully and prints an\n",
    "appropriate message."
   ]
  },
  {
   "cell_type": "code",
   "execution_count": 16,
   "metadata": {},
   "outputs": [
    {
     "name": "stdout",
     "output_type": "stream",
     "text": [
      "Error: The file 'unknown.txt' was not found.\n"
     ]
    }
   ],
   "source": [
    "# Attempt to open the file 'unknown.txt'\n",
    "try:\n",
    "    file = open(\"unknown.txt\", \"r\")\n",
    "    content = file.read()\n",
    "    print(content)\n",
    "except FileNotFoundError:\n",
    "    # Handle the case where the file is not found\n",
    "    print(\"Error: The file 'unknown.txt' was not found.\")\n",
    "else:\n",
    "    # Close the file after reading if no error occurred\n",
    "    file.close()\n"
   ]
  },
  {
   "cell_type": "code",
   "execution_count": null,
   "metadata": {},
   "outputs": [],
   "source": []
  }
 ],
 "metadata": {
  "kernelspec": {
   "display_name": "Python 3",
   "language": "python",
   "name": "python3"
  },
  "language_info": {
   "codemirror_mode": {
    "name": "ipython",
    "version": 3
   },
   "file_extension": ".py",
   "mimetype": "text/x-python",
   "name": "python",
   "nbconvert_exporter": "python",
   "pygments_lexer": "ipython3",
   "version": "3.13.0"
  }
 },
 "nbformat": 4,
 "nbformat_minor": 2
}
